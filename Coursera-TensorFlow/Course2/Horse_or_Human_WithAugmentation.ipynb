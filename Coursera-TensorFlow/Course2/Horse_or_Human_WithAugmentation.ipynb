{
  "nbformat": 4,
  "nbformat_minor": 0,
  "metadata": {
    "colab": {
      "name": "Horse-or-Human-WithAugmentation.ipynb",
      "provenance": [],
      "collapsed_sections": [],
      "toc_visible": true
    },
    "kernelspec": {
      "name": "python3",
      "display_name": "Python 3"
    },
    "accelerator": "GPU"
  },
  "cells": [
    {
      "cell_type": "code",
      "metadata": {
        "colab_type": "code",
        "id": "RXZT2UsyIVe_",
        "colab": {
          "base_uri": "https://localhost:8080/",
          "height": 433
        },
        "outputId": "549093b6-44a3-41ab-a2f6-979a2504e33f"
      },
      "source": [
        "!wget --no-check-certificate \\\n",
        "    https://storage.googleapis.com/laurencemoroney-blog.appspot.com/horse-or-human.zip \\\n",
        "    -O /tmp/horse-or-human.zip\n",
        "\n",
        "!wget --no-check-certificate \\\n",
        "    https://storage.googleapis.com/laurencemoroney-blog.appspot.com/validation-horse-or-human.zip \\\n",
        "    -O /tmp/validation-horse-or-human.zip\n",
        "  \n",
        "import os\n",
        "import zipfile\n",
        "\n",
        "local_zip = '/tmp/horse-or-human.zip'\n",
        "zip_ref = zipfile.ZipFile(local_zip, 'r')\n",
        "zip_ref.extractall('/tmp/horse-or-human')\n",
        "local_zip = '/tmp/validation-horse-or-human.zip'\n",
        "zip_ref = zipfile.ZipFile(local_zip, 'r')\n",
        "zip_ref.extractall('/tmp/validation-horse-or-human')\n",
        "zip_ref.close()\n",
        "# Directory with our training horse pictures\n",
        "train_horse_dir = os.path.join('/tmp/horse-or-human/horses')\n",
        "\n",
        "# Directory with our training human pictures\n",
        "train_human_dir = os.path.join('/tmp/horse-or-human/humans')\n",
        "\n",
        "# Directory with our training horse pictures\n",
        "validation_horse_dir = os.path.join('/tmp/validation-horse-or-human/horses')\n",
        "\n",
        "# Directory with our training human pictures\n",
        "validation_human_dir = os.path.join('/tmp/validation-horse-or-human/humans')"
      ],
      "execution_count": 1,
      "outputs": [
        {
          "output_type": "stream",
          "text": [
            "--2019-09-28 08:38:19--  https://storage.googleapis.com/laurencemoroney-blog.appspot.com/horse-or-human.zip\n",
            "Resolving storage.googleapis.com (storage.googleapis.com)... 172.217.25.240, 2404:6800:4004:818::2010\n",
            "Connecting to storage.googleapis.com (storage.googleapis.com)|172.217.25.240|:443... connected.\n",
            "HTTP request sent, awaiting response... 200 OK\n",
            "Length: 149574867 (143M) [application/zip]\n",
            "Saving to: ‘/tmp/horse-or-human.zip’\n",
            "\n",
            "/tmp/horse-or-human 100%[===================>] 142.65M  94.3MB/s    in 1.5s    \n",
            "\n",
            "2019-09-28 08:38:21 (94.3 MB/s) - ‘/tmp/horse-or-human.zip’ saved [149574867/149574867]\n",
            "\n",
            "--2019-09-28 08:38:23--  https://storage.googleapis.com/laurencemoroney-blog.appspot.com/validation-horse-or-human.zip\n",
            "Resolving storage.googleapis.com (storage.googleapis.com)... 172.217.25.240, 2404:6800:4004:818::2010\n",
            "Connecting to storage.googleapis.com (storage.googleapis.com)|172.217.25.240|:443... connected.\n",
            "HTTP request sent, awaiting response... 200 OK\n",
            "Length: 11480187 (11M) [application/zip]\n",
            "Saving to: ‘/tmp/validation-horse-or-human.zip’\n",
            "\n",
            "/tmp/validation-hor 100%[===================>]  10.95M  31.3MB/s    in 0.3s    \n",
            "\n",
            "2019-09-28 08:38:24 (31.3 MB/s) - ‘/tmp/validation-horse-or-human.zip’ saved [11480187/11480187]\n",
            "\n"
          ],
          "name": "stdout"
        }
      ]
    },
    {
      "cell_type": "markdown",
      "metadata": {
        "colab_type": "text",
        "id": "5oqBkNBJmtUv"
      },
      "source": [
        "## Building a Small Model from Scratch\n",
        "\n",
        "But before we continue, let's start defining the model:\n",
        "\n",
        "Step 1 will be to import tensorflow."
      ]
    },
    {
      "cell_type": "code",
      "metadata": {
        "id": "qvfZg3LQbD-5",
        "colab_type": "code",
        "colab": {}
      },
      "source": [
        "import tensorflow as tf"
      ],
      "execution_count": 0,
      "outputs": []
    },
    {
      "cell_type": "markdown",
      "metadata": {
        "colab_type": "text",
        "id": "BnhYCP4tdqjC"
      },
      "source": [
        "We then add convolutional layers as in the previous example, and flatten the final result to feed into the densely connected layers."
      ]
    },
    {
      "cell_type": "markdown",
      "metadata": {
        "id": "gokG5HKpdtzm",
        "colab_type": "text"
      },
      "source": [
        "Finally we add the densely connected layers. \n",
        "\n",
        "Note that because we are facing a two-class classification problem, i.e. a *binary classification problem*, we will end our network with a [*sigmoid* activation](https://wikipedia.org/wiki/Sigmoid_function), so that the output of our network will be a single scalar between 0 and 1, encoding the probability that the current image is class 1 (as opposed to class 0)."
      ]
    },
    {
      "cell_type": "code",
      "metadata": {
        "id": "PixZ2s5QbYQ3",
        "colab_type": "code",
        "colab": {
          "base_uri": "https://localhost:8080/",
          "height": 91
        },
        "outputId": "b2c3319c-75a0-454a-9dfd-76c7ffbe8a44"
      },
      "source": [
        "model = tf.keras.models.Sequential([\n",
        "    # Note the input shape is the desired size of the image 300x300 with 3 bytes color\n",
        "    # This is the first convolution\n",
        "    tf.keras.layers.Conv2D(16, (3,3), activation='relu', input_shape=(300, 300, 3)),\n",
        "    tf.keras.layers.MaxPooling2D(2, 2),\n",
        "    # The second convolution\n",
        "    tf.keras.layers.Conv2D(32, (3,3), activation='relu'),\n",
        "    tf.keras.layers.MaxPooling2D(2,2),\n",
        "    # The third convolution\n",
        "    tf.keras.layers.Conv2D(64, (3,3), activation='relu'),\n",
        "    tf.keras.layers.MaxPooling2D(2,2),\n",
        "    # The fourth convolution\n",
        "    tf.keras.layers.Conv2D(64, (3,3), activation='relu'),\n",
        "    tf.keras.layers.MaxPooling2D(2,2),\n",
        "    # The fifth convolution\n",
        "    tf.keras.layers.Conv2D(64, (3,3), activation='relu'),\n",
        "    tf.keras.layers.MaxPooling2D(2,2),\n",
        "    # Flatten the results to feed into a DNN\n",
        "    tf.keras.layers.Flatten(),\n",
        "    # 512 neuron hidden layer\n",
        "    tf.keras.layers.Dense(512, activation='relu'),\n",
        "    # Only 1 output neuron. It will contain a value from 0-1 where 0 for 1 class ('horses') and 1 for the other ('humans')\n",
        "    tf.keras.layers.Dense(1, activation='sigmoid')\n",
        "])"
      ],
      "execution_count": 3,
      "outputs": [
        {
          "output_type": "stream",
          "text": [
            "WARNING:tensorflow:From /usr/local/lib/python3.6/dist-packages/tensorflow/python/ops/init_ops.py:1251: calling VarianceScaling.__init__ (from tensorflow.python.ops.init_ops) with dtype is deprecated and will be removed in a future version.\n",
            "Instructions for updating:\n",
            "Call initializer instance with the dtype argument instead of passing it to the constructor\n"
          ],
          "name": "stdout"
        }
      ]
    },
    {
      "cell_type": "code",
      "metadata": {
        "colab_type": "code",
        "id": "8DHWhFP_uhq3",
        "colab": {
          "base_uri": "https://localhost:8080/",
          "height": 91
        },
        "outputId": "b564be6d-1de1-4f16-d2f9-eee8a25d3b21"
      },
      "source": [
        "from tensorflow.keras.optimizers import RMSprop\n",
        "\n",
        "model.compile(loss='binary_crossentropy',\n",
        "              optimizer=RMSprop(lr=1e-4),\n",
        "              metrics=['acc'])"
      ],
      "execution_count": 4,
      "outputs": [
        {
          "output_type": "stream",
          "text": [
            "WARNING:tensorflow:From /usr/local/lib/python3.6/dist-packages/tensorflow/python/ops/nn_impl.py:180: add_dispatch_support.<locals>.wrapper (from tensorflow.python.ops.array_ops) is deprecated and will be removed in a future version.\n",
            "Instructions for updating:\n",
            "Use tf.where in 2.0, which has the same broadcast rule as np.where\n"
          ],
          "name": "stdout"
        }
      ]
    },
    {
      "cell_type": "code",
      "metadata": {
        "colab_type": "code",
        "id": "ClebU9NJg99G",
        "colab": {
          "base_uri": "https://localhost:8080/",
          "height": 53
        },
        "outputId": "740200e6-032d-415e-aa83-09594df2d44f"
      },
      "source": [
        "from tensorflow.keras.preprocessing.image import ImageDataGenerator\n",
        "\n",
        "# All images will be rescaled by 1./255\n",
        "train_datagen = ImageDataGenerator(\n",
        "      rescale=1./255,\n",
        "      rotation_range=40,\n",
        "      width_shift_range=0.2,\n",
        "      height_shift_range=0.2,\n",
        "      shear_range=0.2,\n",
        "      zoom_range=0.2,\n",
        "      horizontal_flip=True,\n",
        "      fill_mode='nearest')\n",
        "\n",
        "validation_datagen = ImageDataGenerator(rescale=1/255)\n",
        "\n",
        "# Flow training images in batches of 128 using train_datagen generator\n",
        "train_generator = train_datagen.flow_from_directory(\n",
        "        '/tmp/horse-or-human/',  # This is the source directory for training images\n",
        "        target_size=(300, 300),  # All images will be resized to 150x150\n",
        "        batch_size=128,\n",
        "        # Since we use binary_crossentropy loss, we need binary labels\n",
        "        class_mode='binary')\n",
        "\n",
        "# Flow training images in batches of 128 using train_datagen generator\n",
        "validation_generator = validation_datagen.flow_from_directory(\n",
        "        '/tmp/validation-horse-or-human/',  # This is the source directory for training images\n",
        "        target_size=(300, 300),  # All images will be resized to 150x150\n",
        "        batch_size=32,\n",
        "        # Since we use binary_crossentropy loss, we need binary labels\n",
        "        class_mode='binary')"
      ],
      "execution_count": 5,
      "outputs": [
        {
          "output_type": "stream",
          "text": [
            "Found 1027 images belonging to 2 classes.\n",
            "Found 256 images belonging to 2 classes.\n"
          ],
          "name": "stdout"
        }
      ]
    },
    {
      "cell_type": "code",
      "metadata": {
        "colab_type": "code",
        "id": "Fb1_lgobv81m",
        "colab": {
          "base_uri": "https://localhost:8080/",
          "height": 1000
        },
        "outputId": "ef3c089d-8af0-44b0-c43e-6f1c43b2812c"
      },
      "source": [
        "history = model.fit_generator(\n",
        "      train_generator,\n",
        "      steps_per_epoch=8,  \n",
        "      epochs=100,\n",
        "      verbose=1,\n",
        "      validation_data = validation_generator,\n",
        "      validation_steps=8)"
      ],
      "execution_count": 6,
      "outputs": [
        {
          "output_type": "stream",
          "text": [
            "Epoch 1/100\n",
            "8/8 [==============================] - 21s 3s/step - loss: 0.6950 - acc: 0.5339 - val_loss: 0.6740 - val_acc: 0.5430\n",
            "Epoch 2/100\n",
            "8/8 [==============================] - 20s 2s/step - loss: 0.6710 - acc: 0.6329 - val_loss: 0.6444 - val_acc: 0.5547\n",
            "Epoch 3/100\n",
            "8/8 [==============================] - 19s 2s/step - loss: 0.6449 - acc: 0.6407 - val_loss: 0.8820 - val_acc: 0.5000\n",
            "Epoch 4/100\n",
            "8/8 [==============================] - 23s 3s/step - loss: 0.6421 - acc: 0.6592 - val_loss: 0.6477 - val_acc: 0.5391\n",
            "Epoch 5/100\n",
            "8/8 [==============================] - 17s 2s/step - loss: 0.6314 - acc: 0.6589 - val_loss: 0.6115 - val_acc: 0.5742\n",
            "Epoch 6/100\n",
            "8/8 [==============================] - 22s 3s/step - loss: 0.5816 - acc: 0.7197 - val_loss: 0.6268 - val_acc: 0.5898\n",
            "Epoch 7/100\n",
            "8/8 [==============================] - 20s 2s/step - loss: 0.5994 - acc: 0.7330 - val_loss: 0.4759 - val_acc: 0.7734\n",
            "Epoch 8/100\n",
            "8/8 [==============================] - 20s 2s/step - loss: 0.5803 - acc: 0.7241 - val_loss: 0.6486 - val_acc: 0.5977\n",
            "Epoch 9/100\n",
            "8/8 [==============================] - 20s 2s/step - loss: 0.5657 - acc: 0.7653 - val_loss: 0.6383 - val_acc: 0.6055\n",
            "Epoch 10/100\n",
            "8/8 [==============================] - 20s 2s/step - loss: 0.4836 - acc: 0.7620 - val_loss: 0.5806 - val_acc: 0.6836\n",
            "Epoch 11/100\n",
            "8/8 [==============================] - 20s 2s/step - loss: 0.4715 - acc: 0.7864 - val_loss: 0.7140 - val_acc: 0.6250\n",
            "Epoch 12/100\n",
            "8/8 [==============================] - 22s 3s/step - loss: 0.4919 - acc: 0.7607 - val_loss: 0.7502 - val_acc: 0.6211\n",
            "Epoch 13/100\n",
            "8/8 [==============================] - 20s 2s/step - loss: 0.4754 - acc: 0.7753 - val_loss: 0.9294 - val_acc: 0.5898\n",
            "Epoch 14/100\n",
            "8/8 [==============================] - 20s 2s/step - loss: 0.5962 - acc: 0.7430 - val_loss: 0.9789 - val_acc: 0.5703\n",
            "Epoch 15/100\n",
            "8/8 [==============================] - 17s 2s/step - loss: 0.4848 - acc: 0.7778 - val_loss: 0.7869 - val_acc: 0.6133\n",
            "Epoch 16/100\n",
            "8/8 [==============================] - 22s 3s/step - loss: 0.4433 - acc: 0.8027 - val_loss: 1.2812 - val_acc: 0.5391\n",
            "Epoch 17/100\n",
            "8/8 [==============================] - 20s 2s/step - loss: 0.5049 - acc: 0.7575 - val_loss: 0.8235 - val_acc: 0.6172\n",
            "Epoch 18/100\n",
            "8/8 [==============================] - 19s 2s/step - loss: 0.4551 - acc: 0.7764 - val_loss: 1.0823 - val_acc: 0.5938\n",
            "Epoch 19/100\n",
            "8/8 [==============================] - 20s 2s/step - loss: 0.4008 - acc: 0.8276 - val_loss: 1.1113 - val_acc: 0.5977\n",
            "Epoch 20/100\n",
            "8/8 [==============================] - 22s 3s/step - loss: 0.4190 - acc: 0.8066 - val_loss: 0.9299 - val_acc: 0.6367\n",
            "Epoch 21/100\n",
            "8/8 [==============================] - 20s 2s/step - loss: 0.3816 - acc: 0.8009 - val_loss: 1.6438 - val_acc: 0.5430\n",
            "Epoch 22/100\n",
            "8/8 [==============================] - 20s 2s/step - loss: 0.4324 - acc: 0.7942 - val_loss: 1.4542 - val_acc: 0.5586\n",
            "Epoch 23/100\n",
            "8/8 [==============================] - 20s 2s/step - loss: 0.3615 - acc: 0.8265 - val_loss: 1.1497 - val_acc: 0.6211\n",
            "Epoch 24/100\n",
            "8/8 [==============================] - 20s 2s/step - loss: 0.4036 - acc: 0.8354 - val_loss: 1.4542 - val_acc: 0.5742\n",
            "Epoch 25/100\n",
            "8/8 [==============================] - 20s 2s/step - loss: 0.3661 - acc: 0.8176 - val_loss: 1.9717 - val_acc: 0.5469\n",
            "Epoch 26/100\n",
            "8/8 [==============================] - 20s 2s/step - loss: 0.3832 - acc: 0.8220 - val_loss: 1.0309 - val_acc: 0.6641\n",
            "Epoch 27/100\n",
            "8/8 [==============================] - 20s 2s/step - loss: 0.4559 - acc: 0.7998 - val_loss: 0.8906 - val_acc: 0.6758\n",
            "Epoch 28/100\n",
            "8/8 [==============================] - 20s 2s/step - loss: 0.3803 - acc: 0.8710 - val_loss: 2.3580 - val_acc: 0.5000\n",
            "Epoch 29/100\n",
            "8/8 [==============================] - 20s 2s/step - loss: 0.3938 - acc: 0.8076 - val_loss: 0.6929 - val_acc: 0.7109\n",
            "Epoch 30/100\n",
            "8/8 [==============================] - 20s 2s/step - loss: 0.3060 - acc: 0.8732 - val_loss: 2.5753 - val_acc: 0.5195\n",
            "Epoch 31/100\n",
            "8/8 [==============================] - 22s 3s/step - loss: 0.3067 - acc: 0.8711 - val_loss: 1.4245 - val_acc: 0.6406\n",
            "Epoch 32/100\n",
            "8/8 [==============================] - 20s 2s/step - loss: 0.4355 - acc: 0.8087 - val_loss: 1.2154 - val_acc: 0.6484\n",
            "Epoch 33/100\n",
            "8/8 [==============================] - 20s 2s/step - loss: 0.3403 - acc: 0.8265 - val_loss: 1.4990 - val_acc: 0.5977\n",
            "Epoch 34/100\n",
            "8/8 [==============================] - 19s 2s/step - loss: 0.2994 - acc: 0.8832 - val_loss: 1.7311 - val_acc: 0.5977\n",
            "Epoch 35/100\n",
            "8/8 [==============================] - 20s 2s/step - loss: 0.2675 - acc: 0.8776 - val_loss: 0.9152 - val_acc: 0.7227\n",
            "Epoch 36/100\n",
            "8/8 [==============================] - 20s 2s/step - loss: 0.4495 - acc: 0.8699 - val_loss: 0.9334 - val_acc: 0.7070\n",
            "Epoch 37/100\n",
            "8/8 [==============================] - 20s 2s/step - loss: 0.2764 - acc: 0.8743 - val_loss: 1.1060 - val_acc: 0.6836\n",
            "Epoch 38/100\n",
            "8/8 [==============================] - 22s 3s/step - loss: 0.3162 - acc: 0.8555 - val_loss: 2.2449 - val_acc: 0.5430\n",
            "Epoch 39/100\n",
            "8/8 [==============================] - 17s 2s/step - loss: 0.4352 - acc: 0.8734 - val_loss: 1.2778 - val_acc: 0.6367\n",
            "Epoch 40/100\n",
            "8/8 [==============================] - 22s 3s/step - loss: 0.2742 - acc: 0.9014 - val_loss: 1.9446 - val_acc: 0.5469\n",
            "Epoch 41/100\n",
            "8/8 [==============================] - 19s 2s/step - loss: 0.3539 - acc: 0.8443 - val_loss: 1.6515 - val_acc: 0.5859\n",
            "Epoch 42/100\n",
            "8/8 [==============================] - 17s 2s/step - loss: 0.2421 - acc: 0.9070 - val_loss: 1.9841 - val_acc: 0.5977\n",
            "Epoch 43/100\n",
            "8/8 [==============================] - 22s 3s/step - loss: 0.2897 - acc: 0.8721 - val_loss: 1.4841 - val_acc: 0.6367\n",
            "Epoch 44/100\n",
            "8/8 [==============================] - 20s 2s/step - loss: 0.4003 - acc: 0.8565 - val_loss: 1.1906 - val_acc: 0.6250\n",
            "Epoch 45/100\n",
            "8/8 [==============================] - 19s 2s/step - loss: 0.2613 - acc: 0.8788 - val_loss: 1.8598 - val_acc: 0.6016\n",
            "Epoch 46/100\n",
            "8/8 [==============================] - 19s 2s/step - loss: 0.4576 - acc: 0.8276 - val_loss: 1.1183 - val_acc: 0.6680\n",
            "Epoch 47/100\n",
            "8/8 [==============================] - 19s 2s/step - loss: 0.2744 - acc: 0.8888 - val_loss: 1.7269 - val_acc: 0.6133\n",
            "Epoch 48/100\n",
            "8/8 [==============================] - 19s 2s/step - loss: 0.2046 - acc: 0.9244 - val_loss: 0.5851 - val_acc: 0.8008\n",
            "Epoch 49/100\n",
            "8/8 [==============================] - 19s 2s/step - loss: 0.2453 - acc: 0.8799 - val_loss: 1.2900 - val_acc: 0.6914\n",
            "Epoch 50/100\n",
            "8/8 [==============================] - 22s 3s/step - loss: 0.2871 - acc: 0.8643 - val_loss: 2.0395 - val_acc: 0.5742\n",
            "Epoch 51/100\n",
            "8/8 [==============================] - 17s 2s/step - loss: 0.3238 - acc: 0.8734 - val_loss: 1.7696 - val_acc: 0.6133\n",
            "Epoch 52/100\n",
            "8/8 [==============================] - 22s 3s/step - loss: 0.2400 - acc: 0.9131 - val_loss: 2.2854 - val_acc: 0.5820\n",
            "Epoch 53/100\n",
            "8/8 [==============================] - 20s 2s/step - loss: 0.4325 - acc: 0.8854 - val_loss: 2.0402 - val_acc: 0.5938\n",
            "Epoch 54/100\n",
            "8/8 [==============================] - 20s 2s/step - loss: 0.2715 - acc: 0.8621 - val_loss: 1.9991 - val_acc: 0.6016\n",
            "Epoch 55/100\n",
            "8/8 [==============================] - 22s 3s/step - loss: 0.2260 - acc: 0.9199 - val_loss: 1.6539 - val_acc: 0.6328\n",
            "Epoch 56/100\n",
            "8/8 [==============================] - 21s 3s/step - loss: 0.2697 - acc: 0.8765 - val_loss: 1.4612 - val_acc: 0.6445\n",
            "Epoch 57/100\n",
            "8/8 [==============================] - 17s 2s/step - loss: 0.3634 - acc: 0.8656 - val_loss: 3.4795 - val_acc: 0.5156\n",
            "Epoch 58/100\n",
            "8/8 [==============================] - 22s 3s/step - loss: 0.2697 - acc: 0.8896 - val_loss: 1.8937 - val_acc: 0.6172\n",
            "Epoch 59/100\n",
            "8/8 [==============================] - 17s 2s/step - loss: 0.2483 - acc: 0.8837 - val_loss: 2.7054 - val_acc: 0.5547\n",
            "Epoch 60/100\n",
            "8/8 [==============================] - 20s 2s/step - loss: 0.2004 - acc: 0.9255 - val_loss: 0.8919 - val_acc: 0.7383\n",
            "Epoch 61/100\n",
            "8/8 [==============================] - 22s 3s/step - loss: 0.2361 - acc: 0.8984 - val_loss: 2.3533 - val_acc: 0.5820\n",
            "Epoch 62/100\n",
            "8/8 [==============================] - 20s 2s/step - loss: 0.2653 - acc: 0.8865 - val_loss: 2.2882 - val_acc: 0.5898\n",
            "Epoch 63/100\n",
            "8/8 [==============================] - 19s 2s/step - loss: 0.3286 - acc: 0.8765 - val_loss: 2.1762 - val_acc: 0.5938\n",
            "Epoch 64/100\n",
            "8/8 [==============================] - 20s 2s/step - loss: 0.1980 - acc: 0.9221 - val_loss: 1.6747 - val_acc: 0.6445\n",
            "Epoch 65/100\n",
            "8/8 [==============================] - 19s 2s/step - loss: 0.2947 - acc: 0.9121 - val_loss: 1.9931 - val_acc: 0.6328\n",
            "Epoch 66/100\n",
            "8/8 [==============================] - 22s 3s/step - loss: 0.2074 - acc: 0.9219 - val_loss: 1.6462 - val_acc: 0.6641\n",
            "Epoch 67/100\n",
            "8/8 [==============================] - 17s 2s/step - loss: 0.2481 - acc: 0.8773 - val_loss: 2.1863 - val_acc: 0.6133\n",
            "Epoch 68/100\n",
            "8/8 [==============================] - 22s 3s/step - loss: 0.2134 - acc: 0.9209 - val_loss: 1.9667 - val_acc: 0.6289\n",
            "Epoch 69/100\n",
            "8/8 [==============================] - 17s 2s/step - loss: 0.2824 - acc: 0.8979 - val_loss: 1.8437 - val_acc: 0.6562\n",
            "Epoch 70/100\n",
            "8/8 [==============================] - 22s 3s/step - loss: 0.2099 - acc: 0.9141 - val_loss: 2.1377 - val_acc: 0.6172\n",
            "Epoch 71/100\n",
            "8/8 [==============================] - 20s 2s/step - loss: 0.2455 - acc: 0.8865 - val_loss: 2.2016 - val_acc: 0.6094\n",
            "Epoch 72/100\n",
            "8/8 [==============================] - 20s 2s/step - loss: 0.1863 - acc: 0.9210 - val_loss: 1.4048 - val_acc: 0.6953\n",
            "Epoch 73/100\n",
            "8/8 [==============================] - 22s 3s/step - loss: 0.2079 - acc: 0.9229 - val_loss: 4.4318 - val_acc: 0.5156\n",
            "Epoch 74/100\n",
            "8/8 [==============================] - 18s 2s/step - loss: 0.3201 - acc: 0.8295 - val_loss: 2.4503 - val_acc: 0.5977\n",
            "Epoch 75/100\n",
            "8/8 [==============================] - 22s 3s/step - loss: 0.2072 - acc: 0.9219 - val_loss: 2.4199 - val_acc: 0.5898\n",
            "Epoch 76/100\n",
            "8/8 [==============================] - 19s 2s/step - loss: 0.2287 - acc: 0.9143 - val_loss: 2.7695 - val_acc: 0.5586\n",
            "Epoch 77/100\n",
            "8/8 [==============================] - 17s 2s/step - loss: 0.1862 - acc: 0.9147 - val_loss: 1.0450 - val_acc: 0.7266\n",
            "Epoch 78/100\n",
            "8/8 [==============================] - 19s 2s/step - loss: 0.2568 - acc: 0.8954 - val_loss: 2.7051 - val_acc: 0.6016\n",
            "Epoch 79/100\n",
            "8/8 [==============================] - 22s 3s/step - loss: 0.1682 - acc: 0.9404 - val_loss: 2.4765 - val_acc: 0.6055\n",
            "Epoch 80/100\n",
            "8/8 [==============================] - 17s 2s/step - loss: 0.2905 - acc: 0.8786 - val_loss: 3.4690 - val_acc: 0.5352\n",
            "Epoch 81/100\n",
            "8/8 [==============================] - 22s 3s/step - loss: 0.1837 - acc: 0.9277 - val_loss: 2.0416 - val_acc: 0.6289\n",
            "Epoch 82/100\n",
            "8/8 [==============================] - 19s 2s/step - loss: 0.2108 - acc: 0.9166 - val_loss: 2.5848 - val_acc: 0.5977\n",
            "Epoch 83/100\n",
            "8/8 [==============================] - 22s 3s/step - loss: 0.1674 - acc: 0.9375 - val_loss: 2.2473 - val_acc: 0.6211\n",
            "Epoch 84/100\n",
            "8/8 [==============================] - 17s 2s/step - loss: 0.1659 - acc: 0.9083 - val_loss: 2.5794 - val_acc: 0.6055\n",
            "Epoch 85/100\n",
            "8/8 [==============================] - 19s 2s/step - loss: 0.2608 - acc: 0.9255 - val_loss: 4.9727 - val_acc: 0.5391\n",
            "Epoch 86/100\n",
            "8/8 [==============================] - 22s 3s/step - loss: 0.1974 - acc: 0.9248 - val_loss: 2.4451 - val_acc: 0.6055\n",
            "Epoch 87/100\n",
            "8/8 [==============================] - 19s 2s/step - loss: 0.2531 - acc: 0.9066 - val_loss: 1.9896 - val_acc: 0.6328\n",
            "Epoch 88/100\n",
            "8/8 [==============================] - 17s 2s/step - loss: 0.1607 - acc: 0.9328 - val_loss: 1.6067 - val_acc: 0.6914\n",
            "Epoch 89/100\n",
            "8/8 [==============================] - 22s 3s/step - loss: 0.2039 - acc: 0.9180 - val_loss: 2.5130 - val_acc: 0.6133\n",
            "Epoch 90/100\n",
            "8/8 [==============================] - 19s 2s/step - loss: 0.3578 - acc: 0.8788 - val_loss: 2.1948 - val_acc: 0.6289\n",
            "Epoch 91/100\n",
            "8/8 [==============================] - 19s 2s/step - loss: 0.1548 - acc: 0.9310 - val_loss: 2.1632 - val_acc: 0.6328\n",
            "Epoch 92/100\n",
            "8/8 [==============================] - 19s 2s/step - loss: 0.1324 - acc: 0.9455 - val_loss: 2.7379 - val_acc: 0.6055\n",
            "Epoch 93/100\n",
            "8/8 [==============================] - 22s 3s/step - loss: 0.2043 - acc: 0.9238 - val_loss: 2.6110 - val_acc: 0.6094\n",
            "Epoch 94/100\n",
            "8/8 [==============================] - 17s 2s/step - loss: 0.1673 - acc: 0.9419 - val_loss: 2.7535 - val_acc: 0.6172\n",
            "Epoch 95/100\n",
            "8/8 [==============================] - 22s 3s/step - loss: 0.1624 - acc: 0.9365 - val_loss: 2.0036 - val_acc: 0.6562\n",
            "Epoch 96/100\n",
            "8/8 [==============================] - 17s 2s/step - loss: 0.3164 - acc: 0.9406 - val_loss: 2.7313 - val_acc: 0.5977\n",
            "Epoch 97/100\n",
            "8/8 [==============================] - 22s 3s/step - loss: 0.1719 - acc: 0.9346 - val_loss: 1.9575 - val_acc: 0.6484\n",
            "Epoch 98/100\n",
            "8/8 [==============================] - 17s 2s/step - loss: 0.2097 - acc: 0.9096 - val_loss: 1.6143 - val_acc: 0.6797\n",
            "Epoch 99/100\n",
            "8/8 [==============================] - 22s 3s/step - loss: 0.1518 - acc: 0.9482 - val_loss: 3.1622 - val_acc: 0.5820\n",
            "Epoch 100/100\n",
            "8/8 [==============================] - 20s 2s/step - loss: 0.1275 - acc: 0.9511 - val_loss: 2.1199 - val_acc: 0.6523\n"
          ],
          "name": "stdout"
        }
      ]
    },
    {
      "cell_type": "code",
      "metadata": {
        "id": "7zNPRWOVJdOH",
        "colab_type": "code",
        "colab": {
          "base_uri": "https://localhost:8080/",
          "height": 545
        },
        "outputId": "81f870d5-8295-4a35-f9bc-36784c8d448b"
      },
      "source": [
        "import matplotlib.pyplot as plt\n",
        "acc = history.history['acc']\n",
        "val_acc = history.history['val_acc']\n",
        "loss = history.history['loss']\n",
        "val_loss = history.history['val_loss']\n",
        "\n",
        "epochs = range(len(acc))\n",
        "\n",
        "plt.plot(epochs, acc, 'r', label='Training accuracy')\n",
        "plt.plot(epochs, val_acc, 'b', label='Validation accuracy')\n",
        "plt.title('Training and validation accuracy')\n",
        "\n",
        "plt.figure()\n",
        "\n",
        "plt.plot(epochs, loss, 'r', label='Training Loss')\n",
        "plt.plot(epochs, val_loss, 'b', label='Validation Loss')\n",
        "plt.title('Training and validation loss')\n",
        "plt.legend()\n",
        "\n",
        "plt.show()"
      ],
      "execution_count": 7,
      "outputs": [
        {
          "output_type": "display_data",
          "data": {
            "image/png": "[encoded data removed]",
            "text/plain": [
              "<Figure size 432x288 with 1 Axes>"
            ]
          },
          "metadata": {
            "tags": []
          }
        },
        {
          "output_type": "display_data",
          "data": {
            "image/png": "[encoded data removed]",
            "text/plain": [
              "<Figure size 432x288 with 1 Axes>"
            ]
          },
          "metadata": {
            "tags": []
          }
        }
      ]
    }
  ]
}